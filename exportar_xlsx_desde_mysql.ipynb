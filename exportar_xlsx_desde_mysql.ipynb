{
 "cells": [
  {
   "cell_type": "code",
   "execution_count": null,
   "metadata": {},
   "outputs": [],
   "source": [
    "#Debido a que Tableau public no permite la carga desde MySQL, se exporta la tabla a un archivo xlsx ya que es mejor para la carga que un csv\n"
   ]
  },
  {
   "cell_type": "code",
   "execution_count": 2,
   "metadata": {},
   "outputs": [
    {
     "name": "stderr",
     "output_type": "stream",
     "text": [
      "/var/folders/bf/f2bv9fls2wl6xxl27gbh6lnc0000gn/T/ipykernel_29732/4226917230.py:25: UserWarning: pandas only supports SQLAlchemy connectable (engine/connection) or database string URI or sqlite3 DBAPI2 connection. Other DBAPI2 objects are not tested. Please consider using SQLAlchemy.\n",
      "  df = pd.read_sql(f\"SELECT * FROM {table_name}\", conn)\n"
     ]
    },
    {
     "name": "stdout",
     "output_type": "stream",
     "text": [
      "Las tablas se han exportado correctamente a archivos Excel.\n"
     ]
    }
   ],
   "source": [
    "import pandas as pd\n",
    "import mysql.connector\n",
    "\n",
    "# Configuración de la conexión a la base de datos MySQL\n",
    "config = {\n",
    "    'user': 'root',\n",
    "    'password': 'Andrea90+',\n",
    "    'host': 'localhost',\n",
    "    'database': 'siniestros_viales',  # Cambia esto al nombre de tu base de datos\n",
    "    'raise_on_warnings': True\n",
    "}\n",
    "\n",
    "# Conectarse a la base de datos MySQL\n",
    "try:\n",
    "    conn = mysql.connector.connect(**config)\n",
    "    cursor = conn.cursor()\n",
    "\n",
    "    # Obtener una lista de las tablas en la base de datos\n",
    "    cursor.execute(\"SHOW TABLES\")\n",
    "    tables = cursor.fetchall()\n",
    "\n",
    "    # Iterar sobre las tablas y exportarlas a archivos Excel\n",
    "    for table in tables:\n",
    "        table_name = table[0]\n",
    "        df = pd.read_sql(f\"SELECT * FROM {table_name}\", conn)\n",
    "        df.to_excel(f\"Datasets_para_tableau/xlsx/{table_name}.xlsx\", index=False)\n",
    "\n",
    "    print(\"Las tablas se han exportado correctamente a archivos Excel.\")\n",
    "\n",
    "except mysql.connector.Error as err:\n",
    "    print(f\"Error al conectarse a MySQL: {err}\")\n",
    "\n",
    "finally:\n",
    "    # Cerrar la conexión a la base de datos\n",
    "    if 'conn' in locals() and conn.is_connected():\n",
    "        cursor.close()\n",
    "        conn.close()\n"
   ]
  }
 ],
 "metadata": {
  "kernelspec": {
   "display_name": "Python 3",
   "language": "python",
   "name": "python3"
  },
  "language_info": {
   "codemirror_mode": {
    "name": "ipython",
    "version": 3
   },
   "file_extension": ".py",
   "mimetype": "text/x-python",
   "name": "python",
   "nbconvert_exporter": "python",
   "pygments_lexer": "ipython3",
   "version": "3.12.3"
  }
 },
 "nbformat": 4,
 "nbformat_minor": 2
}
