{
 "cells": [
  {
   "cell_type": "code",
   "execution_count": 2,
   "metadata": {},
   "outputs": [],
   "source": [
    "#En este archivo ipynb vamos a desmenuzar el xlsx original para poder trabajar con la solapa 'victimas':"
   ]
  },
  {
   "cell_type": "code",
   "execution_count": 3,
   "metadata": {},
   "outputs": [],
   "source": [
    "import pandas as pd"
   ]
  },
  {
   "cell_type": "code",
   "execution_count": 4,
   "metadata": {},
   "outputs": [],
   "source": [
    "#Cargamos cada hoja del archivo xlsx\n",
    "\n",
    "df_victimas = pd.read_excel('Datasets_originales/homicidios.xlsx', sheet_name='VICTIMAS')\n",
    "\n"
   ]
  },
  {
   "cell_type": "code",
   "execution_count": 5,
   "metadata": {},
   "outputs": [],
   "source": [
    "df_victimas_copy = df_victimas.copy()"
   ]
  },
  {
   "cell_type": "code",
   "execution_count": 6,
   "metadata": {},
   "outputs": [],
   "source": [
    "#pasamos todos los nombres de las columnas a mayúsculas:\n",
    "df_victimas_copy.columns = df_victimas_copy.columns.str.upper()"
   ]
  },
  {
   "cell_type": "code",
   "execution_count": 7,
   "metadata": {},
   "outputs": [
    {
     "data": {
      "text/html": [
       "<div>\n",
       "<style scoped>\n",
       "    .dataframe tbody tr th:only-of-type {\n",
       "        vertical-align: middle;\n",
       "    }\n",
       "\n",
       "    .dataframe tbody tr th {\n",
       "        vertical-align: top;\n",
       "    }\n",
       "\n",
       "    .dataframe thead th {\n",
       "        text-align: right;\n",
       "    }\n",
       "</style>\n",
       "<table border=\"1\" class=\"dataframe\">\n",
       "  <thead>\n",
       "    <tr style=\"text-align: right;\">\n",
       "      <th></th>\n",
       "      <th>ID_HECHO</th>\n",
       "      <th>FECHA</th>\n",
       "      <th>AAAA</th>\n",
       "      <th>MM</th>\n",
       "      <th>DD</th>\n",
       "      <th>ROL</th>\n",
       "      <th>VICTIMA</th>\n",
       "      <th>SEXO</th>\n",
       "      <th>EDAD</th>\n",
       "      <th>FECHA_FALLECIMIENTO</th>\n",
       "    </tr>\n",
       "  </thead>\n",
       "  <tbody>\n",
       "    <tr>\n",
       "      <th>0</th>\n",
       "      <td>2016-0001</td>\n",
       "      <td>2016-01-01</td>\n",
       "      <td>2016</td>\n",
       "      <td>1</td>\n",
       "      <td>1</td>\n",
       "      <td>CONDUCTOR</td>\n",
       "      <td>MOTO</td>\n",
       "      <td>MASCULINO</td>\n",
       "      <td>19</td>\n",
       "      <td>2016-01-01 00:00:00</td>\n",
       "    </tr>\n",
       "  </tbody>\n",
       "</table>\n",
       "</div>"
      ],
      "text/plain": [
       "    ID_HECHO      FECHA  AAAA  MM  DD        ROL VICTIMA       SEXO EDAD  \\\n",
       "0  2016-0001 2016-01-01  2016   1   1  CONDUCTOR    MOTO  MASCULINO   19   \n",
       "\n",
       "   FECHA_FALLECIMIENTO  \n",
       "0  2016-01-01 00:00:00  "
      ]
     },
     "execution_count": 7,
     "metadata": {},
     "output_type": "execute_result"
    }
   ],
   "source": [
    "df_victimas_copy.head(1)"
   ]
  },
  {
   "cell_type": "code",
   "execution_count": 8,
   "metadata": {},
   "outputs": [
    {
     "name": "stdout",
     "output_type": "stream",
     "text": [
      "<class 'pandas.core.frame.DataFrame'>\n",
      "RangeIndex: 717 entries, 0 to 716\n",
      "Data columns (total 10 columns):\n",
      " #   Column               Non-Null Count  Dtype         \n",
      "---  ------               --------------  -----         \n",
      " 0   ID_HECHO             717 non-null    object        \n",
      " 1   FECHA                717 non-null    datetime64[ns]\n",
      " 2   AAAA                 717 non-null    int64         \n",
      " 3   MM                   717 non-null    int64         \n",
      " 4   DD                   717 non-null    int64         \n",
      " 5   ROL                  717 non-null    object        \n",
      " 6   VICTIMA              717 non-null    object        \n",
      " 7   SEXO                 717 non-null    object        \n",
      " 8   EDAD                 717 non-null    object        \n",
      " 9   FECHA_FALLECIMIENTO  717 non-null    object        \n",
      "dtypes: datetime64[ns](1), int64(3), object(6)\n",
      "memory usage: 56.1+ KB\n"
     ]
    }
   ],
   "source": [
    "df_victimas_copy.info()"
   ]
  },
  {
   "cell_type": "code",
   "execution_count": 9,
   "metadata": {},
   "outputs": [
    {
     "name": "stderr",
     "output_type": "stream",
     "text": [
      "/var/folders/bf/f2bv9fls2wl6xxl27gbh6lnc0000gn/T/ipykernel_80088/2124851330.py:3: FutureWarning: DataFrame.applymap has been deprecated. Use DataFrame.map instead.\n",
      "  mask = df_victimas_copy.applymap(lambda x: 'SD' in str(x))\n"
     ]
    }
   ],
   "source": [
    "# BUSCAR todas las celdas que contengan la palabra 'SD'\n",
    "# Crear una máscara booleana donde True indica que la celda contiene 'SD'\n",
    "mask = df_victimas_copy.applymap(lambda x: 'SD' in str(x))"
   ]
  },
  {
   "cell_type": "code",
   "execution_count": 10,
   "metadata": {},
   "outputs": [
    {
     "data": {
      "text/plain": [
       "(109, 10)"
      ]
     },
     "execution_count": 10,
     "metadata": {},
     "output_type": "execute_result"
    }
   ],
   "source": [
    "# Imprimir las filas donde al menos una celda contiene 'SD'\n",
    "(df_victimas_copy[mask.any(axis=1)]).shape"
   ]
  },
  {
   "cell_type": "code",
   "execution_count": 11,
   "metadata": {},
   "outputs": [
    {
     "name": "stdout",
     "output_type": "stream",
     "text": [
      "Index(['ROL', 'VICTIMA', 'SEXO', 'EDAD', 'FECHA_FALLECIMIENTO'], dtype='object')\n"
     ]
    }
   ],
   "source": [
    "#Al ver que hay 109 filas con 'SD' en alguna celda, vamos a buscar en qué columnas se encuentran:\n",
    "# Crear una máscara booleana donde True indica que la celda contiene 'SD'\n",
    "mask = df_victimas_copy.apply(lambda x: x.str.contains('SD').any() if x.dtype == \"object\" else False)\n",
    "\n",
    "# Imprimir las columnas donde al menos una celda contiene 'SD'\n",
    "print(df_victimas_copy.columns[mask])"
   ]
  },
  {
   "cell_type": "code",
   "execution_count": 12,
   "metadata": {},
   "outputs": [
    {
     "name": "stdout",
     "output_type": "stream",
     "text": [
      "La cantidad de filas con SD en la columna ROL es: 11\n",
      "Fila con SD en la columna ROL:\n",
      "      ID_HECHO      FECHA  AAAA  MM  DD ROL VICTIMA       SEXO EDAD  \\\n",
      "36   2016-0049 2016-04-17  2016   4  17  SD      SD         SD   SD   \n",
      "39   2016-0052 2016-04-20  2016   4  20  SD    MOTO         SD   SD   \n",
      "63   2016-0085 2016-06-29  2016   6  29  SD    MOTO  MASCULINO   SD   \n",
      "77   2016-0101 2016-08-07  2016   8   7  SD      SD  MASCULINO   67   \n",
      "89   2016-0115 2016-09-02  2016   9   2  SD      SD  MASCULINO   SD   \n",
      "141  2016-0174 2016-12-27  2016  12  27  SD      SD         SD   SD   \n",
      "167  2017-0029 2017-03-07  2017   3   7  SD      SD  MASCULINO   34   \n",
      "208  2017-0074 2017-06-04  2017   6   4  SD      SD  MASCULINO   70   \n",
      "221  2017-0089 2017-07-13  2017   7  13  SD      SD  MASCULINO   23   \n",
      "280  2017-0155 2017-12-12  2017  12  12  SD      SD  MASCULINO   77   \n",
      "390  2018-0100 2018-09-20  2018   9  20  SD    MOTO   FEMENINO   33   \n",
      "\n",
      "     FECHA_FALLECIMIENTO  \n",
      "36                    SD  \n",
      "39                    SD  \n",
      "63                    SD  \n",
      "77                    SD  \n",
      "89                    SD  \n",
      "141                   SD  \n",
      "167  2017-03-07 00:00:00  \n",
      "208  2017-06-04 00:00:00  \n",
      "221                   SD  \n",
      "280                   SD  \n",
      "390  2018-09-20 00:00:00  \n",
      "\n",
      "\n"
     ]
    }
   ],
   "source": [
    "#mostrar las filas que contienen SD en la columna 'ROL':\n",
    "print('La cantidad de filas con SD en la columna ROL es:', df_victimas_copy[df_victimas_copy['ROL'].str.contains('SD', na=False)].shape[0])\n",
    "print('Fila con SD en la columna ROL:')\n",
    "print(df_victimas_copy[df_victimas_copy['ROL'].str.contains('SD', na=False)])\n",
    "print('\\n')"
   ]
  },
  {
   "cell_type": "code",
   "execution_count": 13,
   "metadata": {},
   "outputs": [
    {
     "name": "stdout",
     "output_type": "stream",
     "text": [
      "La cantidad de filas con SD en la columna VICTIMA es: 9\n",
      "Fila con SD en la columna VICTIMA:\n",
      "      ID_HECHO      FECHA  AAAA  MM  DD                   ROL VICTIMA  \\\n",
      "36   2016-0049 2016-04-17  2016   4  17                    SD      SD   \n",
      "77   2016-0101 2016-08-07  2016   8   7                    SD      SD   \n",
      "89   2016-0115 2016-09-02  2016   9   2                    SD      SD   \n",
      "93   2016-0119 2016-09-04  2016   9   4  PASAJERO_ACOMPAÑANTE      SD   \n",
      "141  2016-0174 2016-12-27  2016  12  27                    SD      SD   \n",
      "167  2017-0029 2017-03-07  2017   3   7                    SD      SD   \n",
      "208  2017-0074 2017-06-04  2017   6   4                    SD      SD   \n",
      "221  2017-0089 2017-07-13  2017   7  13                    SD      SD   \n",
      "280  2017-0155 2017-12-12  2017  12  12                    SD      SD   \n",
      "\n",
      "          SEXO EDAD  FECHA_FALLECIMIENTO  \n",
      "36          SD   SD                   SD  \n",
      "77   MASCULINO   67                   SD  \n",
      "89   MASCULINO   SD                   SD  \n",
      "93    FEMENINO   SD                   SD  \n",
      "141         SD   SD                   SD  \n",
      "167  MASCULINO   34  2017-03-07 00:00:00  \n",
      "208  MASCULINO   70  2017-06-04 00:00:00  \n",
      "221  MASCULINO   23                   SD  \n",
      "280  MASCULINO   77                   SD  \n",
      "\n",
      "\n"
     ]
    }
   ],
   "source": [
    "#mostrar las filas que contienen SD en la columna 'VICTIMA':\n",
    "print('La cantidad de filas con SD en la columna VICTIMA es:', df_victimas_copy[df_victimas_copy['VICTIMA'].str.contains('SD', na=False)].shape[0])\n",
    "print('Fila con SD en la columna VICTIMA:')\n",
    "print(df_victimas_copy[df_victimas_copy['VICTIMA'].str.contains('SD', na=False)])\n",
    "print('\\n')"
   ]
  },
  {
   "cell_type": "code",
   "execution_count": 14,
   "metadata": {},
   "outputs": [
    {
     "name": "stdout",
     "output_type": "stream",
     "text": [
      "La cantidad de filas con SD en la columna SEXO es: 6\n",
      "Fila con SD en la columna SEXO:\n",
      "      ID_HECHO      FECHA  AAAA  MM  DD        ROL VICTIMA SEXO EDAD  \\\n",
      "36   2016-0049 2016-04-17  2016   4  17         SD      SD   SD   SD   \n",
      "39   2016-0052 2016-04-20  2016   4  20         SD    MOTO   SD   SD   \n",
      "108  2016-0136 2016-10-25  2016  10  25  CONDUCTOR    MOTO   SD   SD   \n",
      "121  2016-0151 2016-11-18  2016  11  18     PEATON  PEATON   SD   SD   \n",
      "138  2016-0171 2016-12-25  2016  12  25  CONDUCTOR    MOTO   SD   SD   \n",
      "141  2016-0174 2016-12-27  2016  12  27         SD      SD   SD   SD   \n",
      "\n",
      "    FECHA_FALLECIMIENTO  \n",
      "36                   SD  \n",
      "39                   SD  \n",
      "108                  SD  \n",
      "121                  SD  \n",
      "138                  SD  \n",
      "141                  SD  \n",
      "\n",
      "\n"
     ]
    }
   ],
   "source": [
    "#mostrar las filas que contienen SD en la columna 'SEXO':\n",
    "print('La cantidad de filas con SD en la columna SEXO es:', df_victimas_copy[df_victimas_copy['SEXO'].str.contains('SD', na=False)].shape[0])\n",
    "print('Fila con SD en la columna SEXO:')\n",
    "print(df_victimas_copy[df_victimas_copy['SEXO'].str.contains('SD', na=False)])\n",
    "print('\\n')"
   ]
  },
  {
   "cell_type": "code",
   "execution_count": 15,
   "metadata": {},
   "outputs": [
    {
     "name": "stdout",
     "output_type": "stream",
     "text": [
      "La cantidad de filas con SD en la columna EDAD es: 53\n",
      "Fila con SD en la columna EDAD:\n",
      "      ID_HECHO      FECHA  AAAA  MM  DD                   ROL    VICTIMA  \\\n",
      "30   2016-0041 2016-03-29  2016   3  29  PASAJERO_ACOMPAÑANTE       MOTO   \n",
      "33   2016-0045 2016-04-11  2016   4  11             CONDUCTOR       MOTO   \n",
      "35   2016-0048 2016-04-15  2016   4  15                PEATON     PEATON   \n",
      "36   2016-0049 2016-04-17  2016   4  17                    SD         SD   \n",
      "39   2016-0052 2016-04-20  2016   4  20                    SD       MOTO   \n",
      "55   2016-0077 2016-06-13  2016   6  13                PEATON     PEATON   \n",
      "63   2016-0085 2016-06-29  2016   6  29                    SD       MOTO   \n",
      "72   2016-0096 2016-07-25  2016   7  25             CONDUCTOR       MOTO   \n",
      "89   2016-0115 2016-09-02  2016   9   2                    SD         SD   \n",
      "93   2016-0119 2016-09-04  2016   9   4  PASAJERO_ACOMPAÑANTE         SD   \n",
      "108  2016-0136 2016-10-25  2016  10  25             CONDUCTOR       MOTO   \n",
      "119  2016-0148 2016-11-16  2016  11  16             CONDUCTOR       MOTO   \n",
      "121  2016-0151 2016-11-18  2016  11  18                PEATON     PEATON   \n",
      "138  2016-0171 2016-12-25  2016  12  25             CONDUCTOR       MOTO   \n",
      "141  2016-0174 2016-12-27  2016  12  27                    SD         SD   \n",
      "142  2016-0175 2016-12-27  2016  12  27                PEATON     PEATON   \n",
      "165  2017-0027 2017-02-26  2017   2  26                PEATON     PEATON   \n",
      "176  2017-0036 2017-03-29  2017   3  29  PASAJERO_ACOMPAÑANTE       MOTO   \n",
      "182  2017-0042 2017-04-10  2017   4  10             CONDUCTOR       MOTO   \n",
      "225  2017-0093 2017-07-25  2017   7  25                PEATON     PEATON   \n",
      "243  2017-0112 2017-09-10  2017   9  10  PASAJERO_ACOMPAÑANTE       AUTO   \n",
      "275  2017-0151 2017-12-04  2017  12   4                PEATON     PEATON   \n",
      "277  2017-0153 2017-12-11  2017  12  11  PASAJERO_ACOMPAÑANTE       MOTO   \n",
      "299  2018-0014 2018-01-31  2018   1  31                PEATON     PEATON   \n",
      "328  2018-0040 2018-04-27  2018   4  27                PEATON     PEATON   \n",
      "359  2018-0071 2018-07-10  2018   7  10             CONDUCTOR       MOTO   \n",
      "367  2018-0079 2018-07-23  2018   7  23                PEATON     PEATON   \n",
      "371  2018-0083 2018-08-02  2018   8   2             CONDUCTOR       MOTO   \n",
      "377  2018-0088 2018-08-17  2018   8  17             CONDUCTOR       MOTO   \n",
      "391  2018-0101 2018-09-21  2018   9  21             CONDUCTOR       AUTO   \n",
      "421  2018-0130 2018-12-03  2018  12   3             CONDUCTOR       MOTO   \n",
      "444  2019-0010 2019-02-02  2019   2   2                PEATON     PEATON   \n",
      "446  2019-0011 2019-02-10  2019   2  10                PEATON     PEATON   \n",
      "454  2019-0019 2019-03-06  2019   3   6             CONDUCTOR       MOTO   \n",
      "457  2019-0022 2019-03-15  2019   3  15  PASAJERO_ACOMPAÑANTE       AUTO   \n",
      "461  2019-0026 2019-03-28  2019   3  28                PEATON     PEATON   \n",
      "463  2019-0028 2019-04-06  2019   4   6                PEATON     PEATON   \n",
      "469  2019-0034 2019-04-21  2019   4  21             CONDUCTOR       MOTO   \n",
      "479  2019-0043 2019-05-21  2019   5  21              CICLISTA  BICICLETA   \n",
      "498  2019-0063 2019-08-04  2019   8   4  PASAJERO_ACOMPAÑANTE       MOTO   \n",
      "506  2019-0071 2019-08-27  2019   8  27                PEATON     PEATON   \n",
      "529  2019-0094 2019-11-18  2019  11  18  PASAJERO_ACOMPAÑANTE       MOTO   \n",
      "530  2019-0095 2019-11-20  2019  11  20             CONDUCTOR       MOTO   \n",
      "548  2020-0010 2020-02-08  2020   2   8             CONDUCTOR       MOTO   \n",
      "552  2020-0014 2020-02-27  2020   2  27             CONDUCTOR       MOTO   \n",
      "555  2020-0017 2020-03-05  2020   3   5                PEATON     PEATON   \n",
      "563  2020-0025 2020-05-12  2020   5  12                PEATON     PEATON   \n",
      "572  2020-0034 2020-08-02  2020   8   2                PEATON     PEATON   \n",
      "579  2020-0040 2020-09-12  2020   9  12             CONDUCTOR       AUTO   \n",
      "631  2021-0012 2021-01-29  2021   1  29                PEATON     PEATON   \n",
      "639  2021-0020 2021-02-21  2021   2  21                PEATON     PEATON   \n",
      "647  2021-0028 2021-03-29  2021   3  29                PEATON     PEATON   \n",
      "698  2021-0079 2021-10-25  2021  10  25                PEATON     PEATON   \n",
      "\n",
      "          SEXO EDAD  FECHA_FALLECIMIENTO  \n",
      "30   MASCULINO   SD  2016-03-30 00:00:00  \n",
      "33   MASCULINO   SD                   SD  \n",
      "35    FEMENINO   SD                   SD  \n",
      "36          SD   SD                   SD  \n",
      "39          SD   SD                   SD  \n",
      "55    FEMENINO   SD                   SD  \n",
      "63   MASCULINO   SD                   SD  \n",
      "72   MASCULINO   SD                   SD  \n",
      "89   MASCULINO   SD                   SD  \n",
      "93    FEMENINO   SD                   SD  \n",
      "108         SD   SD                   SD  \n",
      "119  MASCULINO   SD                   SD  \n",
      "121         SD   SD                   SD  \n",
      "138         SD   SD                   SD  \n",
      "141         SD   SD                   SD  \n",
      "142   FEMENINO   SD                   SD  \n",
      "165  MASCULINO   SD  2017-02-26 00:00:00  \n",
      "176   FEMENINO   SD  2017-03-29 00:00:00  \n",
      "182  MASCULINO   SD  2017-04-10 00:00:00  \n",
      "225  MASCULINO   SD  2017-07-25 00:00:00  \n",
      "243  MASCULINO   SD  2017-09-13 00:00:00  \n",
      "275  MASCULINO   SD  2017-12-04 00:00:00  \n",
      "277  MASCULINO   SD  2017-12-12 00:00:00  \n",
      "299  MASCULINO   SD  2018-02-04 00:00:00  \n",
      "328   FEMENINO   SD  2018-04-27 00:00:00  \n",
      "359  MASCULINO   SD  2018-07-10 00:00:00  \n",
      "367  MASCULINO   SD  2018-07-23 00:00:00  \n",
      "371  MASCULINO   SD  2018-08-02 00:00:00  \n",
      "377  MASCULINO   SD  2018-08-17 00:00:00  \n",
      "391  MASCULINO   SD  2018-09-21 00:00:00  \n",
      "421  MASCULINO   SD  2018-12-03 00:00:00  \n",
      "444  MASCULINO   SD  2019-02-02 00:00:00  \n",
      "446  MASCULINO   SD  2019-02-10 00:00:00  \n",
      "454  MASCULINO   SD           26/03/2019  \n",
      "457  MASCULINO   SD  2019-03-15 00:00:00  \n",
      "461  MASCULINO   SD  2019-03-28 00:00:00  \n",
      "463   FEMENINO   SD  2019-04-06 00:00:00  \n",
      "469  MASCULINO   SD  2019-04-21 00:00:00  \n",
      "479   FEMENINO   SD  2019-05-21 00:00:00  \n",
      "498  MASCULINO   SD  2019-08-04 00:00:00  \n",
      "506  MASCULINO   SD  2019-08-27 00:00:00  \n",
      "529   FEMENINO   SD  2019-11-18 00:00:00  \n",
      "530  MASCULINO   SD  2019-11-20 00:00:00  \n",
      "548  MASCULINO   SD  2020-02-08 00:00:00  \n",
      "552  MASCULINO   SD  2020-02-27 00:00:00  \n",
      "555  MASCULINO   SD  2020-03-05 00:00:00  \n",
      "563  MASCULINO   SD  2020-05-12 00:00:00  \n",
      "572   FEMENINO   SD  2020-08-02 00:00:00  \n",
      "579  MASCULINO   SD  2020-09-12 00:00:00  \n",
      "631  MASCULINO   SD  2021-01-29 00:00:00  \n",
      "639   FEMENINO   SD  2021-02-21 00:00:00  \n",
      "647  MASCULINO   SD  2021-03-29 00:00:00  \n",
      "698  MASCULINO   SD  2021-10-25 00:00:00  \n",
      "\n",
      "\n"
     ]
    }
   ],
   "source": [
    "#mostrar las filas que contienen SD en la columna 'EDAD':\n",
    "print('La cantidad de filas con SD en la columna EDAD es:', df_victimas_copy[df_victimas_copy['EDAD'].str.contains('SD', na=False)].shape[0])\n",
    "print('Fila con SD en la columna EDAD:')\n",
    "print(df_victimas_copy[df_victimas_copy['EDAD'].str.contains('SD', na=False)])\n",
    "print('\\n')"
   ]
  },
  {
   "cell_type": "code",
   "execution_count": 16,
   "metadata": {},
   "outputs": [
    {
     "name": "stdout",
     "output_type": "stream",
     "text": [
      "La cantidad de filas con SD en la columna FECHA_FALLECIMIENTO es: 68\n",
      "Fila con SD en la columna FECHA_FALLECIMIENTO:\n",
      "      ID_HECHO      FECHA  AAAA  MM  DD                   ROL VICTIMA  \\\n",
      "3    2016-0004 2016-01-10  2016   1  10             CONDUCTOR    MOTO   \n",
      "16   2016-0022 2016-02-21  2016   2  21  PASAJERO_ACOMPAÑANTE    MOTO   \n",
      "19   2016-0027 2016-02-28  2016   2  28  PASAJERO_ACOMPAÑANTE    AUTO   \n",
      "22   2016-0031 2016-03-08  2016   3   8             CONDUCTOR    MOTO   \n",
      "33   2016-0045 2016-04-11  2016   4  11             CONDUCTOR    MOTO   \n",
      "..         ...        ...   ...  ..  ..                   ...     ...   \n",
      "221  2017-0089 2017-07-13  2017   7  13                    SD      SD   \n",
      "242  2017-0112 2017-09-10  2017   9  10  PASAJERO_ACOMPAÑANTE    AUTO   \n",
      "246  2017-0115 2017-09-19  2017   9  19             CONDUCTOR    MOTO   \n",
      "253  2017-0126 2017-10-14  2017  10  14  PASAJERO_ACOMPAÑANTE    AUTO   \n",
      "280  2017-0155 2017-12-12  2017  12  12                    SD      SD   \n",
      "\n",
      "          SEXO EDAD FECHA_FALLECIMIENTO  \n",
      "3    MASCULINO   18                  SD  \n",
      "16   MASCULINO   41                  SD  \n",
      "19   MASCULINO   34                  SD  \n",
      "22   MASCULINO   21                  SD  \n",
      "33   MASCULINO   SD                  SD  \n",
      "..         ...  ...                 ...  \n",
      "221  MASCULINO   23                  SD  \n",
      "242  MASCULINO    1                  SD  \n",
      "246  MASCULINO   34                  SD  \n",
      "253  MASCULINO   39                  SD  \n",
      "280  MASCULINO   77                  SD  \n",
      "\n",
      "[68 rows x 10 columns]\n",
      "\n",
      "\n"
     ]
    }
   ],
   "source": [
    "#mostrar las filas que contienen SD en la columna 'FECHA_FALLECIMIENTO':\n",
    "print('La cantidad de filas con SD en la columna FECHA_FALLECIMIENTO es:', df_victimas_copy[df_victimas_copy['FECHA_FALLECIMIENTO'].str.contains('SD', na=False)].shape[0])\n",
    "print('Fila con SD en la columna FECHA_FALLECIMIENTO:')\n",
    "print(df_victimas_copy[df_victimas_copy['FECHA_FALLECIMIENTO'].str.contains('SD', na=False)])\n",
    "print('\\n')"
   ]
  },
  {
   "cell_type": "code",
   "execution_count": 17,
   "metadata": {},
   "outputs": [
    {
     "name": "stdout",
     "output_type": "stream",
     "text": [
      "<class 'pandas.core.frame.DataFrame'>\n",
      "RangeIndex: 717 entries, 0 to 716\n",
      "Data columns (total 10 columns):\n",
      " #   Column               Non-Null Count  Dtype         \n",
      "---  ------               --------------  -----         \n",
      " 0   ID_HECHO             717 non-null    object        \n",
      " 1   FECHA                717 non-null    datetime64[ns]\n",
      " 2   AAAA                 717 non-null    int64         \n",
      " 3   MM                   717 non-null    int64         \n",
      " 4   DD                   717 non-null    int64         \n",
      " 5   ROL                  717 non-null    object        \n",
      " 6   VICTIMA              717 non-null    object        \n",
      " 7   SEXO                 717 non-null    object        \n",
      " 8   EDAD                 717 non-null    object        \n",
      " 9   FECHA_FALLECIMIENTO  717 non-null    object        \n",
      "dtypes: datetime64[ns](1), int64(3), object(6)\n",
      "memory usage: 56.1+ KB\n"
     ]
    }
   ],
   "source": [
    "df_victimas_copy.info()"
   ]
  },
  {
   "cell_type": "code",
   "execution_count": 18,
   "metadata": {},
   "outputs": [],
   "source": [
    "#Decido dejar las filas con 'SD' en las columnas 'ROL', 'VICTIMA', 'SEXO', 'EDAD', 'FECHA_FALLECIMIENTO'ya que usaremos esos datos para el análisis, haciendo incapie en la importancia a futuro de la colocacion de esos datos en las planillas de origen."
   ]
  },
  {
   "cell_type": "code",
   "execution_count": 19,
   "metadata": {},
   "outputs": [
    {
     "name": "stdout",
     "output_type": "stream",
     "text": [
      "SEXO\n",
      "MASCULINO    545\n",
      "FEMENINO     166\n",
      "SD             6\n",
      "Name: count, dtype: int64\n"
     ]
    }
   ],
   "source": [
    "print(df_victimas_copy['SEXO'].value_counts())"
   ]
  },
  {
   "cell_type": "code",
   "execution_count": 20,
   "metadata": {},
   "outputs": [
    {
     "data": {
      "text/plain": [
       "<Axes: xlabel='SEXO'>"
      ]
     },
     "execution_count": 20,
     "metadata": {},
     "output_type": "execute_result"
    },
    {
     "data": {
      "image/png": "[encoded data removed]",
      "text/plain": [
       "<Figure size 640x480 with 1 Axes>"
      ]
     },
     "metadata": {},
     "output_type": "display_data"
    }
   ],
   "source": [
    "#hacemos una pequeña grafica de barras de prueba para ver como se empiezan a ver los patrones, de la columna'Sexo'\n",
    "\n",
    "df_victimas_copy['SEXO'].value_counts().plot(kind='bar', color=['red', 'green', 'blue'])"
   ]
  },
  {
   "cell_type": "code",
   "execution_count": 21,
   "metadata": {},
   "outputs": [],
   "source": [
    "#En la columna 'EDAD' tenemos valores int y str(por el campo 'SD'), por eso en .info() nos dice object, ya que es la manera de nombrar PANDAS a una columna con multiples datos. Para hacer una nueva columna 'RANGO_ETARIO'lo que debemos hacer es convertir la columna 'EDAD' a numerica, dejando los valores SD como NaN, los mismos no seran tenidos en cuenta luego en Power BI, pero tampoco generará errores en la devolucion de informacion si le asignamos un valor numérico, sea 0 o el promedio de las edades \n",
    "df_victimas_copy['EDAD'] = pd.to_numeric(df_victimas_copy['EDAD'], errors='coerce')"
   ]
  },
  {
   "cell_type": "code",
   "execution_count": 22,
   "metadata": {},
   "outputs": [],
   "source": [
    "#Ahora si agrupamos las edades por rangos etarios\n",
    "\n",
    "df_victimas_copy['RANGO_ETARIO'] = pd.cut(df_victimas_copy['EDAD'], bins=[0, 18, 30, 40, 50, 60, 70, 80, 90, 100], labels=['0-18', '19-30', '31-40', '41-50', '51-60', '61-70', '71-80', '81-90', '91-100'])\n"
   ]
  },
  {
   "cell_type": "code",
   "execution_count": 23,
   "metadata": {},
   "outputs": [
    {
     "data": {
      "text/plain": [
       "<Axes: xlabel='RANGO_ETARIO'>"
      ]
     },
     "execution_count": 23,
     "metadata": {},
     "output_type": "execute_result"
    },
    {
     "data": {
      "image/png": "[encoded data removed]",
      "text/plain": [
       "<Figure size 640x480 with 1 Axes>"
      ]
     },
     "metadata": {},
     "output_type": "display_data"
    }
   ],
   "source": [
    "#Hacemos otro pequeño grafico de barras para ver como se empiezan a ver los patrones de las edades de forma ordenada:\n",
    "\n",
    "df_victimas_copy['RANGO_ETARIO'].value_counts().sort_index().plot(kind='bar', color=['red', 'blue', 'green', 'yellow', 'orange', 'purple', 'pink', 'brown', 'black'])"
   ]
  },
  {
   "cell_type": "code",
   "execution_count": 24,
   "metadata": {},
   "outputs": [
    {
     "name": "stderr",
     "output_type": "stream",
     "text": [
      "/var/folders/bf/f2bv9fls2wl6xxl27gbh6lnc0000gn/T/ipykernel_80088/874706557.py:3: FutureWarning: The default of observed=False is deprecated and will be changed to True in a future version of pandas. Pass observed=False to retain current behavior or observed=True to adopt the future default and silence this warning.\n",
      "  df_victimas_copy.groupby(['RANGO_ETARIO', 'SEXO']).size().unstack().plot(kind='bar', stacked=True, title='Cantidad de victimas por rango etario y sexo')\n"
     ]
    },
    {
     "data": {
      "text/plain": [
       "<Axes: title={'center': 'Cantidad de victimas por rango etario y sexo'}, xlabel='RANGO_ETARIO'>"
      ]
     },
     "execution_count": 24,
     "metadata": {},
     "output_type": "execute_result"
    },
    {
     "data": {
      "image/png": "[encoded data removed]",
      "text/plain": [
       "<Figure size 640x480 with 1 Axes>"
      ]
     },
     "metadata": {},
     "output_type": "display_data"
    }
   ],
   "source": [
    "#Hacemos también una grafica de barras con la cantidad de filas de cada rango etario de la columna 'Rango_Etario' pero ordenada y con un color distinto y con un titulo y combinada con la columna 'Sexo'\n",
    "\n",
    "df_victimas_copy.groupby(['RANGO_ETARIO', 'SEXO']).size().unstack().plot(kind='bar', stacked=True, title='Cantidad de victimas por rango etario y sexo')"
   ]
  },
  {
   "cell_type": "code",
   "execution_count": 27,
   "metadata": {},
   "outputs": [],
   "source": [
    "# Guardamos el DataFrame limpio listo para usar en un archivo xlsx:\n",
    "df_victimas_copy.to_excel('Datasets_limpios/df_victimas_ETL.xlsx', index=False)"
   ]
  },
  {
   "cell_type": "code",
   "execution_count": 26,
   "metadata": {},
   "outputs": [],
   "source": [
    "# Guardamos el DataFrame limpio listo para usar en un archivo CSV: \n",
    "\n",
    "df_victimas_copy.to_csv('Datasets_limpios/df_victimas_ETL.csv', encoding='utf-8-sig', index=False)"
   ]
  }
 ],
 "metadata": {
  "kernelspec": {
   "display_name": "Python 3",
   "language": "python",
   "name": "python3"
  },
  "language_info": {
   "codemirror_mode": {
    "name": "ipython",
    "version": 3
   },
   "file_extension": ".py",
   "mimetype": "text/x-python",
   "name": "python",
   "nbconvert_exporter": "python",
   "pygments_lexer": "ipython3",
   "version": "3.12.3"
  }
 },
 "nbformat": 4,
 "nbformat_minor": 2
}
