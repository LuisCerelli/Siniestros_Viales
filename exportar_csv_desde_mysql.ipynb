{
 "cells": [
  {
   "cell_type": "code",
   "execution_count": null,
   "metadata": {},
   "outputs": [],
   "source": [
    "#Debido a que Tableau public no permite la carga desde MySQL, se exporta la tabla a un archivo csv\n",
    "#y se carga a Tableau Public\n"
   ]
  },
  {
   "cell_type": "code",
   "execution_count": 2,
   "metadata": {},
   "outputs": [
    {
     "name": "stderr",
     "output_type": "stream",
     "text": [
      "/var/folders/bf/f2bv9fls2wl6xxl27gbh6lnc0000gn/T/ipykernel_28089/2723322021.py:25: UserWarning: pandas only supports SQLAlchemy connectable (engine/connection) or database string URI or sqlite3 DBAPI2 connection. Other DBAPI2 objects are not tested. Please consider using SQLAlchemy.\n",
      "  df = pd.read_sql(f\"SELECT * FROM {table_name}\", conn)\n"
     ]
    },
    {
     "name": "stdout",
     "output_type": "stream",
     "text": [
      "Las tablas se han exportado correctamente a archivos CSV.\n"
     ]
    }
   ],
   "source": [
    "import pandas as pd\n",
    "import mysql.connector\n",
    "\n",
    "# Configuración de la conexión a la base de datos MySQL\n",
    "config = {\n",
    "    'user': 'root',\n",
    "    'password': 'Andrea90+',\n",
    "    'host': 'localhost',\n",
    "    'database': 'siniestros_viales',  # Cambia esto al nombre de tu base de datos\n",
    "    'raise_on_warnings': True\n",
    "}\n",
    "\n",
    "# Conectarse a la base de datos MySQL\n",
    "try:\n",
    "    conn = mysql.connector.connect(**config)\n",
    "    cursor = conn.cursor()\n",
    "\n",
    "    # Obtener una lista de las tablas en la base de datos\n",
    "    cursor.execute(\"SHOW TABLES\")\n",
    "    tables = cursor.fetchall()\n",
    "\n",
    "    # Iterar sobre las tablas y exportarlas a archivos CSV\n",
    "    for table in tables:\n",
    "        table_name = table[0]\n",
    "        df = pd.read_sql(f\"SELECT * FROM {table_name}\", conn)\n",
    "        df.to_csv(f\"Datasets_para_tableau/csv/{table_name}.csv\", index=False)\n",
    "\n",
    "    print(\"Las tablas se han exportado correctamente a archivos CSV.\")\n",
    "\n",
    "except mysql.connector.Error as err:\n",
    "    print(f\"Error al conectarse a MySQL: {err}\")\n",
    "\n",
    "finally:\n",
    "    # Cerrar la conexión a la base de datos\n",
    "    if 'conn' in locals() and conn.is_connected():\n",
    "        cursor.close()\n",
    "        conn.close()\n"
   ]
  },
  {
   "cell_type": "code",
   "execution_count": null,
   "metadata": {},
   "outputs": [],
   "source": [
    "#colocar los archivos en la carpeta de Tableau Public\n",
    "#Abrir Tableau Public y cargar los archivos csv\n",
    "#Crear un dashboard con los datos de los archivos\n",
    "#Publicar el dashboard en Tableau Public\n",
    "#Compartir el link del dashboard en la plataforma de Bedu\n",
    "#https://public.tableau.com/profile/andrea.martinez#!/vizhome/SiniestrosViales_16287093168210/Dashboard1\n",
    "\n",
    "\n"
   ]
  }
 ],
 "metadata": {
  "kernelspec": {
   "display_name": "Python 3",
   "language": "python",
   "name": "python3"
  },
  "language_info": {
   "codemirror_mode": {
    "name": "ipython",
    "version": 3
   },
   "file_extension": ".py",
   "mimetype": "text/x-python",
   "name": "python",
   "nbconvert_exporter": "python",
   "pygments_lexer": "ipython3",
   "version": "3.12.3"
  }
 },
 "nbformat": 4,
 "nbformat_minor": 2
}
