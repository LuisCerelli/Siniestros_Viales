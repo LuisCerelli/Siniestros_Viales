{
 "cells": [
  {
   "cell_type": "code",
   "execution_count": 1,
   "metadata": {},
   "outputs": [],
   "source": [
    "import pandas as pd\n",
    "import mysql.connector\n",
    "from mysql.connector import errorcode\n",
    "import numpy as np"
   ]
  },
  {
   "cell_type": "code",
   "execution_count": 2,
   "metadata": {},
   "outputs": [],
   "source": [
    "# Conectar al servidor MySQL\n",
    "conn = mysql.connector.connect(\n",
    "    user='root', password='Andrea90+', host='localhost'\n",
    ")\n",
    "cursor = conn.cursor()"
   ]
  },
  {
   "cell_type": "code",
   "execution_count": 3,
   "metadata": {},
   "outputs": [],
   "source": [
    "#borrar la base de datos\n",
    "cursor.execute(\"DROP DATABASE IF EXISTS `siniestros_viales`\")"
   ]
  },
  {
   "cell_type": "code",
   "execution_count": 4,
   "metadata": {},
   "outputs": [],
   "source": [
    "# Crear base de datos\n",
    "db_name = 'siniestros_viales'\n",
    "try:\n",
    "    cursor.execute(f\"CREATE DATABASE {db_name}\")\n",
    "except mysql.connector.Error as err:\n",
    "    if err.errno == errorcode.ER_DB_CREATE_EXISTS:\n",
    "        print(f\"Database {db_name} already exists.\")\n",
    "    else:\n",
    "        print(err.msg)\n",
    "\n",
    "# Cerrar la conexión inicial\n",
    "# cursor.close()\n",
    "# conn.close()\n",
    "\n"
   ]
  },
  {
   "cell_type": "code",
   "execution_count": 5,
   "metadata": {},
   "outputs": [],
   "source": [
    "#Podemos cerrar la conexión inicial y abrir una nueva con la base de datos creada, para comenzar a trabajar con ella:\n",
    "\n",
    "cursor.close()\n",
    "conn.close()\n"
   ]
  },
  {
   "cell_type": "code",
   "execution_count": 6,
   "metadata": {},
   "outputs": [],
   "source": [
    "# Conectar a la nueva base de datos:\n",
    "conn = mysql.connector.connect(\n",
    "    user='root', password='Andrea90+', host='localhost', database=db_name\n",
    ")\n",
    "cursor = conn.cursor()"
   ]
  },
  {
   "cell_type": "code",
   "execution_count": 7,
   "metadata": {},
   "outputs": [],
   "source": [
    "# Función para insertar datos\n",
    "def insert_data(cursor, table_name, data):\n",
    "    placeholders = ', '.join(['%s'] * len(data.columns))\n",
    "    columns = ', '.join(data.columns)\n",
    "    sql = f\"INSERT INTO {table_name} ({columns}) VALUES ({placeholders})\"\n",
    "    cursor.executemany(sql, data.values.tolist())\n"
   ]
  },
  {
   "cell_type": "markdown",
   "metadata": {},
   "source": [
    "### A medida que se crean las tablas,insertamos las tablas creadas en MySQL:"
   ]
  },
  {
   "cell_type": "markdown",
   "metadata": {},
   "source": [
    "pip install pandas mysql-connector-python\n"
   ]
  },
  {
   "cell_type": "markdown",
   "metadata": {},
   "source": [
    "Paso 1: Leer los archivos CSV con pandas"
   ]
  },
  {
   "cell_type": "markdown",
   "metadata": {},
   "source": [
    "Paso 2: Insertar datos en MySQL"
   ]
  },
  {
   "cell_type": "code",
   "execution_count": 8,
   "metadata": {},
   "outputs": [],
   "source": [
    "# Leer archivos CSV\n",
    "dim_tiempo = pd.read_csv('Datasets_para_MySQL/dim_tiempo.csv')\n",
    "dim_ubicacion = pd.read_csv('Datasets_para_MySQL/dim_ubicacion.csv',dtype={'POS_X': object, 'POS_Y': object})\n",
    "dim_caracteristicas_accidente = pd.read_csv('Datasets_para_MySQL/dim_caracteristicas_accidente.csv')\n",
    "dim_victima = pd.read_csv('Datasets_para_MySQL/dim_victima.csv')\n",
    "hechos_accidentes = pd.read_csv('Datasets_para_MySQL/hechos_accidentes.csv')\n",
    "hechos_victimas = pd.read_csv('Datasets_para_MySQL/hechos_victimas.csv')\n",
    "\n",
    "\n",
    "# Leer el archivo CSV en un nuevo DataFrame, especificando el tipo de datos\n",
    "\n"
   ]
  },
  {
   "cell_type": "code",
   "execution_count": 9,
   "metadata": {},
   "outputs": [
    {
     "name": "stdout",
     "output_type": "stream",
     "text": [
      "<class 'pandas.core.frame.DataFrame'>\n",
      "RangeIndex: 696 entries, 0 to 695\n",
      "Data columns (total 7 columns):\n",
      " #   Column   Non-Null Count  Dtype  \n",
      "---  ------   --------------  -----  \n",
      " 0   FECHA    696 non-null    object \n",
      " 1   AAAA     696 non-null    int64  \n",
      " 2   MM       696 non-null    int64  \n",
      " 3   DD       696 non-null    int64  \n",
      " 4   HORA     696 non-null    object \n",
      " 5   HH       696 non-null    float64\n",
      " 6   FechaID  696 non-null    int64  \n",
      "dtypes: float64(1), int64(4), object(2)\n",
      "memory usage: 38.2+ KB\n"
     ]
    }
   ],
   "source": [
    "#ver los datos del archivo para crear la tabla\n",
    "dim_tiempo.info()"
   ]
  },
  {
   "cell_type": "code",
   "execution_count": 10,
   "metadata": {},
   "outputs": [],
   "source": [
    "# Crear tablas\n",
    "cursor.execute('''\n",
    "CREATE TABLE DimTiempo (\n",
    "    FechaID INT PRIMARY KEY,\n",
    "    FECHA DATE,\n",
    "    AAAA INT,\n",
    "    MM INT,\n",
    "    DD INT,\n",
    "    HORA TIME,\n",
    "    HH INT\n",
    ");\n",
    "''')"
   ]
  },
  {
   "cell_type": "code",
   "execution_count": 11,
   "metadata": {},
   "outputs": [],
   "source": [
    "# Insertar datos en cada tabla\n",
    "insert_data(cursor, 'DimTiempo', dim_tiempo)"
   ]
  },
  {
   "cell_type": "code",
   "execution_count": 12,
   "metadata": {},
   "outputs": [],
   "source": [
    "# Confirmar la transacción para ir testeando en MySQL: \n",
    "conn.commit()"
   ]
  },
  {
   "cell_type": "code",
   "execution_count": 13,
   "metadata": {},
   "outputs": [],
   "source": [
    "cursor.execute('''\n",
    "CREATE TABLE DimUbicacion (\n",
    "    UbicacionID INT PRIMARY KEY,\n",
    "    LUGAR_DEL_HECHO VARCHAR(255),\n",
    "    TIPO_DE_CALLE VARCHAR(255),\n",
    "    CALLE VARCHAR(255),\n",
    "    DIRECCION_NORMALIZADA VARCHAR(255),\n",
    "    COMUNA VARCHAR(255),\n",
    "    POS_X DECIMAL(10,8) NULL,\n",
    "    POS_Y DECIMAL(10,8) NULL\n",
    ");\n",
    "''')"
   ]
  },
  {
   "cell_type": "code",
   "execution_count": 14,
   "metadata": {},
   "outputs": [
    {
     "name": "stderr",
     "output_type": "stream",
     "text": [
      "/var/folders/bf/f2bv9fls2wl6xxl27gbh6lnc0000gn/T/ipykernel_26171/196496130.py:3: FutureWarning: A value is trying to be set on a copy of a DataFrame or Series through chained assignment using an inplace method.\n",
      "The behavior will change in pandas 3.0. This inplace method will never work because the intermediate object on which we are setting values always behaves as a copy.\n",
      "\n",
      "For example, when doing 'df[col].method(value, inplace=True)', try using 'df.method({col: value}, inplace=True)' or df[col] = df[col].method(value) instead, to perform the operation inplace on the original object.\n",
      "\n",
      "\n",
      "  dim_ubicacion['POS_X'].replace('.', np.nan, inplace=True)\n",
      "/var/folders/bf/f2bv9fls2wl6xxl27gbh6lnc0000gn/T/ipykernel_26171/196496130.py:4: FutureWarning: A value is trying to be set on a copy of a DataFrame or Series through chained assignment using an inplace method.\n",
      "The behavior will change in pandas 3.0. This inplace method will never work because the intermediate object on which we are setting values always behaves as a copy.\n",
      "\n",
      "For example, when doing 'df[col].method(value, inplace=True)', try using 'df.method({col: value}, inplace=True)' or df[col] = df[col].method(value) instead, to perform the operation inplace on the original object.\n",
      "\n",
      "\n",
      "  dim_ubicacion['POS_Y'].replace('.', np.nan, inplace=True)\n"
     ]
    }
   ],
   "source": [
    "#Despues de mucho probar, hay una transformacion que recien se puede hacer ahora, ya que cada vez que pasamos los datos limpios a un nuevo archivo, gralmente xlsx(que guarda mas fielmente los datos que un csv), al abrirse luego para seguir trabajando pandas abre los None como NaN, y genera un conflicto en MySQL. EL error del que estamos hablando está en las columnas 'POS_X' y 'POST_Y' que tienen en algunas celdas el valor '.', el cual que no es importado ya que el tipo de dato que se quiere guardar en la BBDD es un DECIMAL , por lo que se debe guardar un None, equivalente a NULL en SQL, pero la transformacion se debe hacer con numpy primero, ya que si se hace con pandas, se guardara un string 'None' en vez de un None, y no se podra guardar en la base de datos, por lo que se debe hacer con numpy primero, y luego con pandas, para que se guarde correctamente en la base de datos.\n",
    "# Paso 1: Reemplazar '.' con np.nan\n",
    "dim_ubicacion['POS_X'].replace('.', np.nan, inplace=True)\n",
    "dim_ubicacion['POS_Y'].replace('.', np.nan, inplace=True)\n",
    "\n"
   ]
  },
  {
   "cell_type": "code",
   "execution_count": 15,
   "metadata": {},
   "outputs": [
    {
     "name": "stderr",
     "output_type": "stream",
     "text": [
      "/var/folders/bf/f2bv9fls2wl6xxl27gbh6lnc0000gn/T/ipykernel_26171/119378974.py:3: FutureWarning: A value is trying to be set on a copy of a DataFrame or Series through chained assignment using an inplace method.\n",
      "The behavior will change in pandas 3.0. This inplace method will never work because the intermediate object on which we are setting values always behaves as a copy.\n",
      "\n",
      "For example, when doing 'df[col].method(value, inplace=True)', try using 'df.method({col: value}, inplace=True)' or df[col] = df[col].method(value) instead, to perform the operation inplace on the original object.\n",
      "\n",
      "\n",
      "  dim_ubicacion['POS_X'].replace(np.nan, None, inplace=True)\n",
      "/var/folders/bf/f2bv9fls2wl6xxl27gbh6lnc0000gn/T/ipykernel_26171/119378974.py:4: FutureWarning: A value is trying to be set on a copy of a DataFrame or Series through chained assignment using an inplace method.\n",
      "The behavior will change in pandas 3.0. This inplace method will never work because the intermediate object on which we are setting values always behaves as a copy.\n",
      "\n",
      "For example, when doing 'df[col].method(value, inplace=True)', try using 'df.method({col: value}, inplace=True)' or df[col] = df[col].method(value) instead, to perform the operation inplace on the original object.\n",
      "\n",
      "\n",
      "  dim_ubicacion['POS_Y'].replace(np.nan, None, inplace=True)\n"
     ]
    }
   ],
   "source": [
    "# Paso 2: Reemplazar np.nan con None\n",
    "\n",
    "dim_ubicacion['POS_X'].replace(np.nan, None, inplace=True)\n",
    "dim_ubicacion['POS_Y'].replace(np.nan, None, inplace=True)"
   ]
  },
  {
   "cell_type": "code",
   "execution_count": 16,
   "metadata": {},
   "outputs": [],
   "source": [
    "insert_data(cursor, 'DimUbicacion', dim_ubicacion)"
   ]
  },
  {
   "cell_type": "code",
   "execution_count": 17,
   "metadata": {},
   "outputs": [],
   "source": [
    "# Confirmar la transacción para ir testeando en MySQL: \n",
    "conn.commit()"
   ]
  },
  {
   "cell_type": "code",
   "execution_count": 18,
   "metadata": {},
   "outputs": [
    {
     "name": "stdout",
     "output_type": "stream",
     "text": [
      "<class 'pandas.core.frame.DataFrame'>\n",
      "RangeIndex: 662 entries, 0 to 661\n",
      "Data columns (total 5 columns):\n",
      " #   Column                     Non-Null Count  Dtype \n",
      "---  ------                     --------------  ----- \n",
      " 0   TIPO_DE_CALLE              662 non-null    object\n",
      " 1   CALLE                      662 non-null    object\n",
      " 2   DIRECCION_NORMALIZADA      662 non-null    object\n",
      " 3   VICTIMA                    662 non-null    object\n",
      " 4   CaracteristicaAccidenteID  662 non-null    int64 \n",
      "dtypes: int64(1), object(4)\n",
      "memory usage: 26.0+ KB\n"
     ]
    }
   ],
   "source": [
    "dim_caracteristicas_accidente.info()    "
   ]
  },
  {
   "cell_type": "code",
   "execution_count": 20,
   "metadata": {},
   "outputs": [],
   "source": [
    "cursor.execute('''\n",
    "CREATE TABLE DimCaracteristicasAccidente (\n",
    "    CaracteristicaAccidenteID INT PRIMARY KEY,\n",
    "    TIPO_DE_CALLE VARCHAR(255),\n",
    "    CALLE VARCHAR(255),\n",
    "    DIRECCION_NORMALIZADA VARCHAR(255),\n",
    "    VICTIMA VARCHAR(255)\n",
    ");\n",
    "''')"
   ]
  },
  {
   "cell_type": "code",
   "execution_count": 21,
   "metadata": {},
   "outputs": [],
   "source": [
    "insert_data(cursor, 'DimCaracteristicasAccidente', dim_caracteristicas_accidente)"
   ]
  },
  {
   "cell_type": "code",
   "execution_count": 22,
   "metadata": {},
   "outputs": [],
   "source": [
    "# Confirmar la transacción para ir testeando en MySQL: \n",
    "conn.commit()"
   ]
  },
  {
   "cell_type": "code",
   "execution_count": 23,
   "metadata": {},
   "outputs": [
    {
     "name": "stdout",
     "output_type": "stream",
     "text": [
      "<class 'pandas.core.frame.DataFrame'>\n",
      "RangeIndex: 698 entries, 0 to 697\n",
      "Data columns (total 5 columns):\n",
      " #   Column               Non-Null Count  Dtype  \n",
      "---  ------               --------------  -----  \n",
      " 0   ROL                  698 non-null    object \n",
      " 1   SEXO                 698 non-null    object \n",
      " 2   EDAD                 653 non-null    float64\n",
      " 3   FECHA_FALLECIMIENTO  698 non-null    object \n",
      " 4   VictimaID            698 non-null    int64  \n",
      "dtypes: float64(1), int64(1), object(3)\n",
      "memory usage: 27.4+ KB\n"
     ]
    }
   ],
   "source": [
    "dim_victima.info()"
   ]
  },
  {
   "cell_type": "code",
   "execution_count": 24,
   "metadata": {},
   "outputs": [],
   "source": [
    "cursor.execute('''\n",
    "CREATE TABLE DimVictima (\n",
    "    VictimaID INT PRIMARY KEY,\n",
    "    ROL VARCHAR(255),\n",
    "    SEXO VARCHAR(255),\n",
    "    EDAD INT,\n",
    "    FECHA_FALLECIMIENTO DATE\n",
    ");\n",
    "''')"
   ]
  },
  {
   "cell_type": "code",
   "execution_count": 25,
   "metadata": {},
   "outputs": [
    {
     "data": {
      "text/plain": [
       "ROL                     0\n",
       "SEXO                    0\n",
       "EDAD                   45\n",
       "FECHA_FALLECIMIENTO     0\n",
       "VictimaID               0\n",
       "dtype: int64"
      ]
     },
     "execution_count": 25,
     "metadata": {},
     "output_type": "execute_result"
    }
   ],
   "source": [
    "#dado el mismo caso de error que en la tabla DimUbicacion, vamos a ver en que columnas estan los nan:\n",
    "dim_victima.isnull().sum()\n",
    "\n"
   ]
  },
  {
   "cell_type": "code",
   "execution_count": 26,
   "metadata": {},
   "outputs": [
    {
     "name": "stderr",
     "output_type": "stream",
     "text": [
      "/var/folders/bf/f2bv9fls2wl6xxl27gbh6lnc0000gn/T/ipykernel_26171/1492659485.py:2: FutureWarning: A value is trying to be set on a copy of a DataFrame or Series through chained assignment using an inplace method.\n",
      "The behavior will change in pandas 3.0. This inplace method will never work because the intermediate object on which we are setting values always behaves as a copy.\n",
      "\n",
      "For example, when doing 'df[col].method(value, inplace=True)', try using 'df.method({col: value}, inplace=True)' or df[col] = df[col].method(value) instead, to perform the operation inplace on the original object.\n",
      "\n",
      "\n",
      "  dim_victima['EDAD'].replace('NaN', np.nan, inplace=True)\n"
     ]
    }
   ],
   "source": [
    "# Una vez detectado que el problema, en este caso los nan estan en la colomna edad, Paso a 1: Reemplazar '.' con np.nan\n",
    "dim_victima['EDAD'].replace('NaN', np.nan, inplace=True)\n"
   ]
  },
  {
   "cell_type": "code",
   "execution_count": 27,
   "metadata": {},
   "outputs": [
    {
     "name": "stderr",
     "output_type": "stream",
     "text": [
      "/var/folders/bf/f2bv9fls2wl6xxl27gbh6lnc0000gn/T/ipykernel_26171/2494070672.py:3: FutureWarning: A value is trying to be set on a copy of a DataFrame or Series through chained assignment using an inplace method.\n",
      "The behavior will change in pandas 3.0. This inplace method will never work because the intermediate object on which we are setting values always behaves as a copy.\n",
      "\n",
      "For example, when doing 'df[col].method(value, inplace=True)', try using 'df.method({col: value}, inplace=True)' or df[col] = df[col].method(value) instead, to perform the operation inplace on the original object.\n",
      "\n",
      "\n",
      "  dim_victima['EDAD'].replace(np.nan, None, inplace=True)\n"
     ]
    }
   ],
   "source": [
    "# Paso 2: Reemplazar np.nan con None\n",
    "\n",
    "dim_victima['EDAD'].replace(np.nan, None, inplace=True)\n"
   ]
  },
  {
   "cell_type": "code",
   "execution_count": 28,
   "metadata": {},
   "outputs": [
    {
     "name": "stderr",
     "output_type": "stream",
     "text": [
      "/var/folders/bf/f2bv9fls2wl6xxl27gbh6lnc0000gn/T/ipykernel_26171/1435407903.py:2: FutureWarning: A value is trying to be set on a copy of a DataFrame or Series through chained assignment using an inplace method.\n",
      "The behavior will change in pandas 3.0. This inplace method will never work because the intermediate object on which we are setting values always behaves as a copy.\n",
      "\n",
      "For example, when doing 'df[col].method(value, inplace=True)', try using 'df.method({col: value}, inplace=True)' or df[col] = df[col].method(value) instead, to perform the operation inplace on the original object.\n",
      "\n",
      "\n",
      "  dim_victima['FECHA_FALLECIMIENTO'].replace('SD', None, inplace=True)\n"
     ]
    }
   ],
   "source": [
    "#Ahora nos aparece el problema de 'SD' en la columna FECHA_FALLECIMIENTO, que no es un valor valido para una fecha, por lo que se debe reemplazar por None:\n",
    "dim_victima['FECHA_FALLECIMIENTO'].replace('SD', None, inplace=True)"
   ]
  },
  {
   "cell_type": "code",
   "execution_count": 29,
   "metadata": {},
   "outputs": [],
   "source": [
    "#Aparecio un nuevo error de formato de fecha en la fila 436(que en realidad es el 435, ya que la fila 1 es el encabezado), vamos a convertirla al formato correcto\n",
    "dim_victima.loc[435, 'FECHA_FALLECIMIENTO'] = pd.to_datetime(dim_victima.loc[435, 'FECHA_FALLECIMIENTO'], format='%d/%m/%Y').strftime('%Y-%m-%d')\n",
    "\n"
   ]
  },
  {
   "cell_type": "code",
   "execution_count": 30,
   "metadata": {},
   "outputs": [
    {
     "data": {
      "text/plain": [
       "'2019-03-26'"
      ]
     },
     "execution_count": 30,
     "metadata": {},
     "output_type": "execute_result"
    }
   ],
   "source": [
    "dim_victima.loc[435, 'FECHA_FALLECIMIENTO']"
   ]
  },
  {
   "cell_type": "code",
   "execution_count": 31,
   "metadata": {},
   "outputs": [],
   "source": [
    "insert_data(cursor, 'DimVictima', dim_victima)"
   ]
  },
  {
   "cell_type": "code",
   "execution_count": 32,
   "metadata": {},
   "outputs": [],
   "source": [
    "# Confirmar la transacción para ir testeando en MySQL: \n",
    "conn.commit()"
   ]
  },
  {
   "cell_type": "code",
   "execution_count": 33,
   "metadata": {},
   "outputs": [
    {
     "name": "stdout",
     "output_type": "stream",
     "text": [
      "<class 'pandas.core.frame.DataFrame'>\n",
      "RangeIndex: 261114 entries, 0 to 261113\n",
      "Data columns (total 6 columns):\n",
      " #   Column                     Non-Null Count   Dtype \n",
      "---  ------                     --------------   ----- \n",
      " 0   HechoID                    261114 non-null  int64 \n",
      " 1   ID                         261114 non-null  object\n",
      " 2   N_VICTIMAS                 261114 non-null  int64 \n",
      " 3   FechaID                    261114 non-null  int64 \n",
      " 4   UbicacionID                261114 non-null  int64 \n",
      " 5   CaracteristicaAccidenteID  261114 non-null  int64 \n",
      "dtypes: int64(5), object(1)\n",
      "memory usage: 12.0+ MB\n"
     ]
    }
   ],
   "source": [
    "hechos_accidentes.info()"
   ]
  },
  {
   "cell_type": "code",
   "execution_count": 34,
   "metadata": {},
   "outputs": [],
   "source": [
    "#Antes de agregar esta tabla, dejamos comentado que tuvimos que suplementar una columna 'HechoID', no pudimos elegir ID porque por las caracteristicas de los merges se repetia y causaba el efecto 'duplicacion'... \n",
    "\n",
    "cursor.execute('''\n",
    "CREATE TABLE HechosAccidentes (\n",
    "    HechoID INT PRIMARY KEY,\n",
    "    ID VARCHAR(20),\n",
    "    N_VICTIMAS INT,\n",
    "    FechaID INT,\n",
    "    UbicacionID INT,\n",
    "    CaracteristicaAccidenteID INT,\n",
    "    FOREIGN KEY (FechaID) REFERENCES DimTiempo(FechaID),\n",
    "    FOREIGN KEY (UbicacionID) REFERENCES DimUbicacion(UbicacionID),\n",
    "    FOREIGN KEY (CaracteristicaAccidenteID) REFERENCES DimCaracteristicasAccidente(CaracteristicaAccidenteID)\n",
    "    );\n",
    "''')"
   ]
  },
  {
   "cell_type": "code",
   "execution_count": 35,
   "metadata": {},
   "outputs": [],
   "source": [
    "insert_data(cursor, 'HechosAccidentes', hechos_accidentes)"
   ]
  },
  {
   "cell_type": "code",
   "execution_count": 36,
   "metadata": {},
   "outputs": [],
   "source": [
    "# Confirmar la transacción para ir testeando en MySQL: \n",
    "conn.commit()"
   ]
  },
  {
   "cell_type": "code",
   "execution_count": 37,
   "metadata": {},
   "outputs": [
    {
     "name": "stdout",
     "output_type": "stream",
     "text": [
      "<class 'pandas.core.frame.DataFrame'>\n",
      "RangeIndex: 7863 entries, 0 to 7862\n",
      "Data columns (total 4 columns):\n",
      " #   Column          Non-Null Count  Dtype \n",
      "---  ------          --------------  ----- \n",
      " 0   HechoVictimaID  7863 non-null   int64 \n",
      " 1   ID_HECHO        7863 non-null   object\n",
      " 2   FechaID         7863 non-null   int64 \n",
      " 3   VictimaID       7863 non-null   int64 \n",
      "dtypes: int64(3), object(1)\n",
      "memory usage: 245.8+ KB\n"
     ]
    }
   ],
   "source": [
    "hechos_victimas.info()"
   ]
  },
  {
   "cell_type": "code",
   "execution_count": 38,
   "metadata": {},
   "outputs": [],
   "source": [
    "#Debido a el 'clasico' error de los NaN, vamos a reemplazarlos por '':\n",
    "\n",
    "hechos_victimas.fillna('', inplace=True)"
   ]
  },
  {
   "cell_type": "code",
   "execution_count": 39,
   "metadata": {},
   "outputs": [],
   "source": [
    "\n",
    "cursor.execute('''\n",
    "CREATE TABLE HechosVictimas (\n",
    "    HechoVictimaID INT PRIMARY KEY,\n",
    "    ID_HECHO VARCHAR(20),\n",
    "    FechaID INT,\n",
    "    VictimaID INT,\n",
    "    FOREIGN KEY (FechaID) REFERENCES DimTiempo(FechaID),\n",
    "    FOREIGN KEY (VictimaID) REFERENCES DimVictima(VictimaID)\n",
    "    );\n",
    "''')"
   ]
  },
  {
   "cell_type": "code",
   "execution_count": 40,
   "metadata": {},
   "outputs": [],
   "source": [
    "insert_data(cursor, 'HechosVictimas', hechos_victimas)"
   ]
  },
  {
   "cell_type": "code",
   "execution_count": 41,
   "metadata": {},
   "outputs": [],
   "source": [
    "# Confirmar la transacción para ir testeando en MySQL: \n",
    "conn.commit()"
   ]
  },
  {
   "cell_type": "code",
   "execution_count": 42,
   "metadata": {},
   "outputs": [],
   "source": [
    "# Cerrar la conexión\n",
    "cursor.close()\n",
    "conn.close()"
   ]
  },
  {
   "cell_type": "code",
   "execution_count": null,
   "metadata": {},
   "outputs": [],
   "source": []
  },
  {
   "cell_type": "code",
   "execution_count": null,
   "metadata": {},
   "outputs": [],
   "source": []
  },
  {
   "cell_type": "code",
   "execution_count": null,
   "metadata": {},
   "outputs": [],
   "source": []
  }
 ],
 "metadata": {
  "kernelspec": {
   "display_name": "Python 3",
   "language": "python",
   "name": "python3"
  },
  "language_info": {
   "codemirror_mode": {
    "name": "ipython",
    "version": 3
   },
   "file_extension": ".py",
   "mimetype": "text/x-python",
   "name": "python",
   "nbconvert_exporter": "python",
   "pygments_lexer": "ipython3",
   "version": "3.12.3"
  }
 },
 "nbformat": 4,
 "nbformat_minor": 2
}
