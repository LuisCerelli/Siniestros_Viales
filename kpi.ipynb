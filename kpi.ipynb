{
 "cells": [
  {
   "cell_type": "code",
   "execution_count": 1,
   "metadata": {},
   "outputs": [],
   "source": [
    "import pandas as pd\n"
   ]
  },
  {
   "cell_type": "code",
   "execution_count": 19,
   "metadata": {},
   "outputs": [],
   "source": [
    "# Read the data from the CSV file:\n",
    "hechos_victimas = pd.read_csv('Datasets_para_tableau/csv/HechosVictimas.csv')\n",
    "dim_victima = pd.read_csv('Datasets_para_tableau/csv/DimVictima.csv')\n",
    "dim_tiempo = pd.read_csv('Datasets_para_tableau/csv/DimTiempo.csv')\n",
    "hechos_accidentes = pd.read_csv('Datasets_para_tableau/csv/HechosAccidentes.csv')\n",
    "dim_ubicacion = pd.read_csv('Datasets_para_tableau/csv/DimUbicacion.csv')\n",
    "dim_caracteristicas= pd.read_csv('Datasets_para_tableau/csv/DimCaracteristicasAccidente.csv')"
   ]
  },
  {
   "cell_type": "code",
   "execution_count": 20,
   "metadata": {},
   "outputs": [],
   "source": [
    "# Unir las tablas necesarias para el análisis\n",
    "hechos_victimas_full = hechos_victimas.merge(dim_victima, on='VictimaID').merge(dim_tiempo, on='FechaID')\n"
   ]
  },
  {
   "cell_type": "code",
   "execution_count": 22,
   "metadata": {},
   "outputs": [],
   "source": [
    "hechos_accidentes_full = hechos_accidentes.merge(dim_ubicacion, on='UbicacionID').merge(dim_tiempo, on='FechaID').merge(dim_caracteristicas, on='CaracteristicaAccidenteID')"
   ]
  },
  {
   "cell_type": "code",
   "execution_count": 57,
   "metadata": {},
   "outputs": [],
   "source": [
    "# guardamos los nuevos datasets en csv\n",
    "hechos_accidentes_full.to_csv('Datasets_full_para_kpi_python/HechosAccidentesFull.csv', index=False)\n",
    "hechos_victimas_full.to_csv('Datasets_full_para_kpi_python/HechosVictimasFull.csv', index=False)"
   ]
  },
  {
   "cell_type": "code",
   "execution_count": 24,
   "metadata": {},
   "outputs": [],
   "source": [
    "# Filtrar datos de homicidios en siniestros viales, contando todas las filas de hechos_victimas que tengan una fecha de fallecimiento no nula, ya que no sabemos si la víctima murió en el siniestro o \n",
    "\n",
    "homicidios_siniestros = hechos_victimas_full[hechos_victimas_full['FECHA_FALLECIMIENTO'].notnull()]"
   ]
  },
  {
   "cell_type": "code",
   "execution_count": 25,
   "metadata": {},
   "outputs": [],
   "source": [
    "# Filtrar datos de accidentes de motociclistas\n",
    "accidentes_moto = hechos_accidentes_full[hechos_accidentes_full['VICTIMA'].str.contains('MOTO', na=False)]"
   ]
  },
  {
   "cell_type": "code",
   "execution_count": 27,
   "metadata": {},
   "outputs": [],
   "source": [
    "#1. KPI 1: Reducir en un 10% la tasa de homicidios en siniestros viales, este codigo esta errado pues es actual, y los datasets no son actuales, mas abajo continuamos con nuestros codigos: \n",
    "\n",
    "# Definir el período de los últimos 6 meses y el semestre anterior\n",
    "# ultimo_semestre = pd.to_datetime('today') - pd.DateOffset(months=6)\n",
    "# semestre_anterior = pd.to_datetime('today') - pd.DateOffset(months=12)\n"
   ]
  },
  {
   "cell_type": "code",
   "execution_count": 35,
   "metadata": {},
   "outputs": [],
   "source": [
    "hechos_victimas_full['FECHA'] = pd.to_datetime(hechos_victimas_full['FECHA'])\n",
    "fecha_mas_reciente = hechos_victimas_full['FECHA'].max()\n",
    "ultimo_semestre = fecha_mas_reciente - pd.DateOffset(months=6)\n",
    "semestre_anterior = fecha_mas_reciente - pd.DateOffset(months=12)"
   ]
  },
  {
   "cell_type": "code",
   "execution_count": 38,
   "metadata": {},
   "outputs": [],
   "source": [
    "# Filtrar datos de los últimos 6 meses y el semestre anterior\n",
    "homicidios_ultimo_semestre = homicidios_siniestros[homicidios_siniestros['FECHA'] >= ultimo_semestre]\n",
    "homicidios_semestre_anterior = homicidios_siniestros[(homicidios_siniestros['FECHA'] >= semestre_anterior) & (homicidios_siniestros['FECHA'] < ultimo_semestre)]\n",
    "\n",
    "\n"
   ]
  },
  {
   "cell_type": "code",
   "execution_count": 39,
   "metadata": {},
   "outputs": [],
   "source": [
    "# Calcular el número de homicidios y la tasa\n",
    "num_homicidios_ultimo_semestre = len(homicidios_ultimo_semestre)\n",
    "num_homicidios_semestre_anterior = len(homicidios_semestre_anterior)\n",
    "poblacion_caba = 3075646  # Población de CABA"
   ]
  },
  {
   "cell_type": "code",
   "execution_count": 40,
   "metadata": {},
   "outputs": [
    {
     "name": "stdout",
     "output_type": "stream",
     "text": [
      "Tasa de homicidios del último semestre: 8.518535618208338\n",
      "Tasa de homicidios del semestre anterior: 16.84199026806076\n",
      "Reducción de la tasa de homicidios: 49.420849420849414\n"
     ]
    }
   ],
   "source": [
    "# if poblacion_caba != 0:\n",
    "#     tasa_homicidios_ultimo_semestre = (num_homicidios_ultimo_semestre / poblacion_caba) * 100000\n",
    "#     tasa_homicidios_semestre_anterior = (num_homicidios_semestre_anterior / poblacion_caba) * 100000\n",
    "\n",
    "# if tasa_homicidios_semestre_anterior != 0:\n",
    "#     reduccion_tasa_homicidios = ((tasa_homicidios_semestre_anterior - tasa_homicidios_ultimo_semestre) / tasa_homicidios_semestre_anterior) * 100\n",
    "\n",
    "\n",
    "if poblacion_caba != 0:\n",
    "    tasa_homicidios_ultimo_semestre = (num_homicidios_ultimo_semestre / poblacion_caba) * 100000\n",
    "    tasa_homicidios_semestre_anterior = (num_homicidios_semestre_anterior / poblacion_caba) * 100000\n",
    "    print(\"Tasa de homicidios del último semestre:\", tasa_homicidios_ultimo_semestre)\n",
    "    print(\"Tasa de homicidios del semestre anterior:\", tasa_homicidios_semestre_anterior)\n",
    "\n",
    "if tasa_homicidios_semestre_anterior != 0:\n",
    "    reduccion_tasa_homicidios = ((tasa_homicidios_semestre_anterior - tasa_homicidios_ultimo_semestre) / tasa_homicidios_semestre_anterior) * 100\n",
    "    print(\"Reducción de la tasa de homicidios:\", reduccion_tasa_homicidios)\n",
    "\n",
    "\n",
    "\n",
    "\n",
    "# tasa_homicidios_ultimo_semestre = (num_homicidios_ultimo_semestre / poblacion_caba) * 100000\n",
    "# tasa_homicidios_semestre_anterior = (num_homicidios_semestre_anterior / poblacion_caba) * 100000\n",
    "\n",
    "# reduccion_tasa_homicidios = ((tasa_homicidios_semestre_anterior - tasa_homicidios_ultimo_semestre) / tasa_homicidios_semestre_anterior) * 100"
   ]
  },
  {
   "cell_type": "code",
   "execution_count": null,
   "metadata": {},
   "outputs": [],
   "source": []
  },
  {
   "cell_type": "code",
   "execution_count": 41,
   "metadata": {},
   "outputs": [],
   "source": [
    "# 2. KPI 2: Reducir en un 7% la cantidad de accidentes mortales de motociclistas\n",
    "\n",
    "# Asegúrate de que 'FECHA' esté en formato datetime\n",
    "hechos_victimas_full['FECHA'] = pd.to_datetime(hechos_victimas_full['FECHA'])\n",
    "\n",
    "# Encuentra la fecha más reciente en tus datos\n",
    "fecha_mas_reciente = hechos_victimas_full['FECHA'].max()\n",
    "\n",
    "# Define el último año y el año anterior basándote en la fecha más reciente\n",
    "ultimo_ano = fecha_mas_reciente - pd.DateOffset(years=1)\n",
    "ano_anterior = fecha_mas_reciente - pd.DateOffset(years=2)"
   ]
  },
  {
   "cell_type": "code",
   "execution_count": 43,
   "metadata": {},
   "outputs": [
    {
     "name": "stderr",
     "output_type": "stream",
     "text": [
      "/var/folders/bf/f2bv9fls2wl6xxl27gbh6lnc0000gn/T/ipykernel_11446/1515075584.py:3: SettingWithCopyWarning: \n",
      "A value is trying to be set on a copy of a slice from a DataFrame.\n",
      "Try using .loc[row_indexer,col_indexer] = value instead\n",
      "\n",
      "See the caveats in the documentation: https://pandas.pydata.org/pandas-docs/stable/user_guide/indexing.html#returning-a-view-versus-a-copy\n",
      "  accidentes_moto['FECHA'] = pd.to_datetime(accidentes_moto['FECHA'])\n"
     ]
    }
   ],
   "source": [
    "# Filtrar datos del último año y el año anterior\n",
    "# Asegúrate de que 'FECHA' esté en formato datetime\n",
    "accidentes_moto['FECHA'] = pd.to_datetime(accidentes_moto['FECHA'])\n",
    "\n",
    "# Filtrar datos del último año y el año anterior\n",
    "accidentes_moto_ultimo_ano = accidentes_moto[accidentes_moto['FECHA'] >= ultimo_ano]\n",
    "accidentes_moto_ano_anterior = accidentes_moto[(accidentes_moto['FECHA'] >= ano_anterior) & (accidentes_moto['FECHA'] < ultimo_ano)]"
   ]
  },
  {
   "cell_type": "code",
   "execution_count": 44,
   "metadata": {},
   "outputs": [],
   "source": [
    "# Calcular el número de accidentes mortales de motociclistas\n",
    "num_accidentes_moto_ultimo_ano = len(accidentes_moto_ultimo_ano)\n",
    "num_accidentes_moto_ano_anterior = len(accidentes_moto_ano_anterior)"
   ]
  },
  {
   "cell_type": "code",
   "execution_count": 45,
   "metadata": {},
   "outputs": [
    {
     "data": {
      "text/plain": [
       "-21.161347517730498"
      ]
     },
     "execution_count": 45,
     "metadata": {},
     "output_type": "execute_result"
    }
   ],
   "source": [
    "reduccion_accidentes_moto = ((num_accidentes_moto_ano_anterior - num_accidentes_moto_ultimo_ano) / num_accidentes_moto_ano_anterior) * 100\n",
    "reduccion_accidentes_moto"
   ]
  },
  {
   "cell_type": "code",
   "execution_count": 46,
   "metadata": {},
   "outputs": [],
   "source": [
    "\n",
    "# 3. KPI 3: Proponer un tercer KPI relevante\n",
    "# Ejemplo de un tercer KPI: \"Reducir en un 5% la cantidad de accidentes en una determinada área geográfica específica en CABA respecto al año anterior\".\n",
    "\n",
    "# Definir el área específica (ejemplo: Comuna 1)\n",
    "area_especifica = 'Comuna 1'"
   ]
  },
  {
   "cell_type": "code",
   "execution_count": 49,
   "metadata": {},
   "outputs": [],
   "source": [
    "# Filtrar datos de la Comuna 1 del último año y el año anterior\n",
    "\n",
    "hechos_accidentes_full['FECHA'] = pd.to_datetime(accidentes_moto['FECHA'])\n",
    "\n",
    "accidentes_area_especifica_ultimo_ano = hechos_accidentes_full[(hechos_accidentes_full['COMUNA'] == area_especifica) & (hechos_accidentes_full['FECHA'] >= ultimo_ano)]\n",
    "accidentes_area_especifica_ano_anterior = hechos_accidentes_full[(hechos_accidentes_full['COMUNA'] == area_especifica) & (hechos_accidentes_full['FECHA'] >= ano_anterior) & (hechos_accidentes_full['FECHA'] < ultimo_ano)]\n"
   ]
  },
  {
   "cell_type": "code",
   "execution_count": 50,
   "metadata": {},
   "outputs": [],
   "source": [
    "# Calcular el número de accidentes\n",
    "num_accidentes_area_especifica_ultimo_ano = len(accidentes_area_especifica_ultimo_ano)\n",
    "num_accidentes_area_especifica_ano_anterior = len(accidentes_area_especifica_ano_anterior)"
   ]
  },
  {
   "cell_type": "code",
   "execution_count": 51,
   "metadata": {},
   "outputs": [
    {
     "ename": "ZeroDivisionError",
     "evalue": "division by zero",
     "output_type": "error",
     "traceback": [
      "\u001b[0;31m---------------------------------------------------------------------------\u001b[0m",
      "\u001b[0;31mZeroDivisionError\u001b[0m                         Traceback (most recent call last)",
      "Cell \u001b[0;32mIn[51], line 1\u001b[0m\n\u001b[0;32m----> 1\u001b[0m reduccion_accidentes_area_especifica \u001b[38;5;241m=\u001b[39m (\u001b[43m(\u001b[49m\u001b[43mnum_accidentes_area_especifica_ano_anterior\u001b[49m\u001b[43m \u001b[49m\u001b[38;5;241;43m-\u001b[39;49m\u001b[43m \u001b[49m\u001b[43mnum_accidentes_area_especifica_ultimo_ano\u001b[49m\u001b[43m)\u001b[49m\u001b[43m \u001b[49m\u001b[38;5;241;43m/\u001b[39;49m\u001b[43m \u001b[49m\u001b[43mnum_accidentes_area_especifica_ano_anterior\u001b[49m) \u001b[38;5;241m*\u001b[39m \u001b[38;5;241m100\u001b[39m\n\u001b[1;32m      3\u001b[0m reduccion_accidentes_area_especifica\n",
      "\u001b[0;31mZeroDivisionError\u001b[0m: division by zero"
     ]
    }
   ],
   "source": [
    "reduccion_accidentes_area_especifica = ((num_accidentes_area_especifica_ano_anterior - num_accidentes_area_especifica_ultimo_ano) / num_accidentes_area_especifica_ano_anterior) * 100\n",
    "\n",
    "reduccion_accidentes_area_especifica"
   ]
  },
  {
   "cell_type": "code",
   "execution_count": null,
   "metadata": {},
   "outputs": [],
   "source": [
    "\n",
    "\n",
    "\n",
    "# Paso 4: Graficar los KPIs\n",
    "# Utiliza matplotlib o seaborn para crear las gráficas necesarias:\n",
    "# python\n",
    "# Copiar código\n",
    "import matplotlib.pyplot as plt\n",
    "import seaborn as sns\n",
    "\n",
    "# Configurar el estilo de los gráficos\n",
    "sns.set(style=\"whitegrid\")\n",
    "\n",
    "# Graficar KPI 1\n",
    "plt.figure(figsize=(10, 6))\n",
    "kpi1_data = {'Periodo': ['Semestre Anterior', 'Último Semestre'],\n",
    "             'Tasa de Homicidios': [tasa_homicidios_semestre_anterior, tasa_homicidios_ultimo_semestre]}\n",
    "df_kpi1 = pd.DataFrame(kpi1_data)\n",
    "sns.barplot(x='Periodo', y='Tasa de Homicidios', data=df_kpi1)\n",
    "plt.title('Reducción de la Tasa de Homicidios en Siniestros Viales')\n",
    "plt.ylabel('Tasa de Homicidios (por 100,000 habitantes)')\n",
    "plt.show()\n",
    "\n",
    "# Graficar KPI 2\n",
    "plt.figure(figsize=(10, 6))\n",
    "kpi2_data = {'Periodo': ['Año Anterior', 'Último Año'],\n",
    "             'Accidentes Mortales de Motociclistas': [num_accidentes_moto_ano_anterior, num_accidentes_moto_ultimo_ano]}\n",
    "df_kpi2 = pd.DataFrame(kpi2_data)\n",
    "sns.barplot(x='Periodo', y='Accidentes Mortales de Motociclistas', data=df_kpi2)\n",
    "plt.title('Reducción de Accidentes Mortales de Motociclistas')\n",
    "plt.ylabel('Número de Accidentes')\n",
    "plt.show()\n",
    "\n",
    "# Graficar KPI 3\n",
    "plt.figure(figsize=(10, 6))\n",
    "kpi3_data = {'Periodo': ['Año Anterior', 'Último Año'],\n",
    "             'Accidentes en Comuna 1': [num_accidentes_area_especifica_ano_anterior, num_accidentes_area_especifica_ultimo_ano]}\n",
    "df_kpi3 = pd.DataFrame(kpi3_data)\n",
    "sns.barplot(x='Periodo', y='Accidentes en Comuna 1', data=df_kpi3)\n",
    "plt.title('Reducción de Accidentes en Comuna 1')\n",
    "plt.ylabel('Número de Accidentes')\n",
    "plt.show()\n",
    "Este código realiza un análisis exploratorio de datos (EDA) y crea gráficas para los KPIs mencionados. Los gráficos ayudan a visualizar la reducción en las tasas de homicidios en siniestros viales y los accidentes mortales de motociclistas, así como el tercer KPI propuesto. Puedes ajustar y personalizar las gráficas según tus necesidades y preferencias.\n"
   ]
  }
 ],
 "metadata": {
  "kernelspec": {
   "display_name": "Python 3",
   "language": "python",
   "name": "python3"
  },
  "language_info": {
   "codemirror_mode": {
    "name": "ipython",
    "version": 3
   },
   "file_extension": ".py",
   "mimetype": "text/x-python",
   "name": "python",
   "nbconvert_exporter": "python",
   "pygments_lexer": "ipython3",
   "version": "3.12.3"
  }
 },
 "nbformat": 4,
 "nbformat_minor": 2
}
